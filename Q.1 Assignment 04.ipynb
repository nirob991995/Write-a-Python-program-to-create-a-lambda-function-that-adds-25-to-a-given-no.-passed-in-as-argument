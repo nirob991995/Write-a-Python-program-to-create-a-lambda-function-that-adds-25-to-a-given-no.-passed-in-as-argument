{
 "cells": [
  {
   "cell_type": "markdown",
   "id": "74fd1985",
   "metadata": {},
   "source": [
    "## Write a Python program to create a lambda function that adds 25 to a given number passed in as an argument.\n",
    "\n",
    "sample input: 10\n",
    "\n",
    "sample output: 35"
   ]
  },
  {
   "cell_type": "code",
   "execution_count": 1,
   "id": "159da4f1",
   "metadata": {},
   "outputs": [
    {
     "name": "stdout",
     "output_type": "stream",
     "text": [
      "Enter any number of your choice :- 10\n",
      "35\n"
     ]
    }
   ],
   "source": [
    "#approach 1\n",
    "\n",
    "# creating a lambda function to add 25 to any input number\n",
    "\n",
    "number= lambda x : x + 25        # using variable number to store the function object\n",
    "n = int(input(\"Enter any number of your choice :- \"))   # using input function to take input from user\n",
    "print(number(n))      # calling lambda function by passing an argument\n",
    "\n"
   ]
  },
  {
   "cell_type": "code",
   "execution_count": 2,
   "id": "b0aba4cf",
   "metadata": {},
   "outputs": [
    {
     "name": "stdout",
     "output_type": "stream",
     "text": [
      "Enter any number of your choice :- 10\n",
      "35\n"
     ]
    }
   ],
   "source": [
    "#approach 2\n",
    "\n",
    "# creating a lambda function to add 25 to any input number\n",
    "from ast import literal_eval\n",
    "\n",
    "number= lambda x : x + 25        # using variable number to store the function object\n",
    "n = literal_eval(input(\"Enter any number of your choice :- \"))   # using input function to take input from user\n",
    "print(number(n))      # calling lambda function by passing an argument\n",
    "\n"
   ]
  },
  {
   "cell_type": "code",
   "execution_count": 3,
   "id": "41b1dcfd",
   "metadata": {},
   "outputs": [
    {
     "name": "stdout",
     "output_type": "stream",
     "text": [
      "Enter any number :- 10\n",
      "35\n"
     ]
    }
   ],
   "source": [
    "# approach 3   ------ good way to practice lambda\n",
    "\n",
    "from ast import literal_eval\n",
    "n = literal_eval(input(\"Enter any number :- \"))\n",
    "print((lambda x : x + 25)(n))\n"
   ]
  },
  {
   "cell_type": "code",
   "execution_count": null,
   "id": "2cee870e",
   "metadata": {},
   "outputs": [],
   "source": []
  }
 ],
 "metadata": {
  "kernelspec": {
   "display_name": "Python 3 (ipykernel)",
   "language": "python",
   "name": "python3"
  },
  "language_info": {
   "codemirror_mode": {
    "name": "ipython",
    "version": 3
   },
   "file_extension": ".py",
   "mimetype": "text/x-python",
   "name": "python",
   "nbconvert_exporter": "python",
   "pygments_lexer": "ipython3",
   "version": "3.8.9"
  }
 },
 "nbformat": 4,
 "nbformat_minor": 5
}
